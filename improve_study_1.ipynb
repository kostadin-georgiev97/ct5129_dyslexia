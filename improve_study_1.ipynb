{
 "cells": [
  {
   "cell_type": "markdown",
   "metadata": {},
   "source": [
    "# Experiments - Part 1\n",
    "## Based on Luz Rello, et al., (2020) **Predicting risk of dyslexia with an online gamified test**\n",
    "\n",
    "* Program name: Master's in Computer Science - Artificial Intelligence (MAI)\n",
    "* Student name: Kostadin Georgiev\n",
    "* Student Id: 22229358"
   ]
  },
  {
   "cell_type": "code",
   "execution_count": 44,
   "metadata": {},
   "outputs": [],
   "source": [
    "import numpy as np\n",
    "import pandas as pd\n",
    "from sklearn.preprocessing import MinMaxScaler\n",
    "from sklearn.model_selection import KFold\n",
    "from sklearn.ensemble import RandomForestClassifier\n",
    "from sklearn import metrics\n",
    "import matplotlib.pyplot as plt\n",
    "import seaborn as sns\n",
    "from sklearn.neighbors import KNeighborsClassifier\n",
    "from sklearn.svm import SVC\n",
    "from sklearn.model_selection import GridSearchCV\n",
    "from imblearn.over_sampling import SMOTE, ADASYN\n",
    "\n",
    "%matplotlib inline"
   ]
  },
  {
   "cell_type": "markdown",
   "metadata": {},
   "source": [
    "## Experiments"
   ]
  },
  {
   "cell_type": "code",
   "execution_count": 3,
   "metadata": {},
   "outputs": [],
   "source": [
    "# Exctract name of columns\n",
    "features = pd.read_csv('data/Dyt-desktop.csv', delimiter=';').columns.values[:-1]\n",
    "\n",
    "def load_data(path):\n",
    "    data = pd.read_csv(path, delimiter=';')\n",
    "\n",
    "    # Extract data points (features) as a NumPy array\n",
    "    X = data.iloc[:, :-1].values\n",
    "\n",
    "    # Extract labels as a NumPy array\n",
    "    y = data['Dyslexia'].values\n",
    "    y = np.where(y == 'Yes', 1, 0)\n",
    "\n",
    "    return X, y\n",
    "\n",
    "def pre_process(data, labels):\n",
    "    X, y = data, labels\n",
    "\n",
    "    # Replace NaN values with 0s\n",
    "    for i in range(X.shape[0]):\n",
    "        for j in range(X.shape[1]):\n",
    "            X[i][j] = np.nan_to_num(X[i][j])\n",
    "\n",
    "    # Encode 'Male' to 0 and 'Female' to 1\n",
    "    X[:, 0] = np.where(X[:, 0] == 'Male', 0, 1)\n",
    "\n",
    "    # Encode 'Yes' to 1 and 'No' to 0\n",
    "    X[:, 1] = np.where(X[:, 1] == 'Yes', 1, 0)\n",
    "    X[:, 2] = np.where(X[:, 2] == 'Yes', 1, 0)\n",
    "\n",
    "    # Perform Min-Max scaling for non-'Accuracy' columns\n",
    "    scaler = MinMaxScaler(feature_range=(0, 1))\n",
    "    for i, feature in enumerate(features):\n",
    "        if not feature.startswith('Accuracy'):\n",
    "            column_values = X[:, i].astype(float).reshape(-1, 1)\n",
    "            X[:, i] = scaler.fit_transform(column_values).flatten()\n",
    "    \n",
    "    return X, y\n",
    "\n",
    "def cross_validate(X, y, create_model, n_folds=10, threshold=0.5, seed=42, oversampling=None):\n",
    "    kf = KFold(n_splits=n_folds, shuffle=True, random_state=seed)\n",
    "    accuracies = []\n",
    "    recalls = []\n",
    "    precisions = []\n",
    "    rocs = []\n",
    "    f1_scores = []\n",
    "    \n",
    "    for train, test in kf.split(X):\n",
    "        X_train, y_train = X[train], y[train]\n",
    "        X_test, y_test = X[test], y[test]\n",
    "\n",
    "        if oversampling == 'smote':\n",
    "            oversampler = SMOTE(random_state=seed)\n",
    "        if oversampling == 'adasyn':\n",
    "            oversampler = ADASYN(random_state=seed)\n",
    "        if oversampling is not None:\n",
    "            X_train, y_train = oversampler.fit_resample(X_train, y_train)\n",
    "\n",
    "        model = create_model(seed=seed)\n",
    "        model.fit(X_train, y_train)\n",
    "\n",
    "        predicted_probabilities = model.predict_proba(X_test)\n",
    "        y_pred = (predicted_probabilities[:, 1] >= threshold).astype(int)\n",
    "\n",
    "        accuracy = metrics.accuracy_score(y_test, y_pred)\n",
    "        recall = metrics.recall_score(y_test, y_pred, average='binary', pos_label=1, zero_division=0)\n",
    "        precision = metrics.precision_score(y_test, y_pred, average='binary', pos_label=1, zero_division=0)\n",
    "        roc_score = metrics.roc_auc_score(y_test, y_pred)\n",
    "        f1_score = metrics.f1_score(y_test, y_pred, average='binary', pos_label=1, zero_division=0)\n",
    "        \n",
    "        accuracies.append(accuracy)\n",
    "        recalls.append(recall)\n",
    "        precisions.append(precision)\n",
    "        rocs.append(roc_score)\n",
    "        f1_scores.append(f1_score)\n",
    "    \n",
    "    accuracy = float(\"{:.1f}\".format(np.mean(accuracies) * 100))\n",
    "    recall = float(\"{:.1f}\".format(np.mean(recalls) * 100))\n",
    "    precision = float(\"{:.1f}\".format(np.mean(precisions) * 100))\n",
    "    roc = float(\"{:.3f}\".format(np.mean(rocs)))\n",
    "    f1_score = float(\"{:.1f}\".format(np.mean(f1_scores) * 100))\n",
    "\n",
    "    return accuracy, recall, precision, roc, f1_score\n",
    "\n",
    "def run_experiment(X, y, create_model, threshold=0.5, oversampling=None, seed=42):\n",
    "    results = pd.DataFrame(columns=['Accuracy', 'Recall', 'Precision', 'ROC', 'F1 Score', 'Threshold'])\n",
    "    accuracy, recall, precision, roc, f1_score = cross_validate(X, y, create_model, threshold=threshold, seed=seed, oversampling=oversampling)\n",
    "    results.loc[0] = [accuracy, recall, precision, roc, f1_score, \"{:.3f}\".format(threshold)]\n",
    "\n",
    "    return results\n",
    "\n",
    "def rf_200_balanced(seed=42):\n",
    "    return RandomForestClassifier(n_estimators=200, class_weight='balanced', random_state=seed)\n",
    "\n",
    "def rf_200_unbalanced(seed=42):\n",
    "    return RandomForestClassifier(n_estimators=200, class_weight=None, random_state=seed)"
   ]
  },
  {
   "cell_type": "code",
   "execution_count": 4,
   "metadata": {},
   "outputs": [],
   "source": [
    "data, labels = load_data('data/Dyt-desktop.csv')\n",
    "data, labels = pre_process(data, labels)"
   ]
  },
  {
   "cell_type": "markdown",
   "metadata": {},
   "source": [
    "### Experiment 1: Baseline Model"
   ]
  },
  {
   "cell_type": "code",
   "execution_count": 5,
   "metadata": {},
   "outputs": [
    {
     "data": {
      "text/html": [
       "<div>\n",
       "<style scoped>\n",
       "    .dataframe tbody tr th:only-of-type {\n",
       "        vertical-align: middle;\n",
       "    }\n",
       "\n",
       "    .dataframe tbody tr th {\n",
       "        vertical-align: top;\n",
       "    }\n",
       "\n",
       "    .dataframe thead th {\n",
       "        text-align: right;\n",
       "    }\n",
       "</style>\n",
       "<table border=\"1\" class=\"dataframe\">\n",
       "  <thead>\n",
       "    <tr style=\"text-align: right;\">\n",
       "      <th></th>\n",
       "      <th>Accuracy</th>\n",
       "      <th>Recall</th>\n",
       "      <th>Precision</th>\n",
       "      <th>ROC</th>\n",
       "      <th>F1 Score</th>\n",
       "      <th>Threshold</th>\n",
       "    </tr>\n",
       "  </thead>\n",
       "  <tbody>\n",
       "    <tr>\n",
       "      <th>0</th>\n",
       "      <td>76.8</td>\n",
       "      <td>80.0</td>\n",
       "      <td>29.1</td>\n",
       "      <td>0.782</td>\n",
       "      <td>42.4</td>\n",
       "      <td>0.115</td>\n",
       "    </tr>\n",
       "  </tbody>\n",
       "</table>\n",
       "</div>"
      ],
      "text/plain": [
       "   Accuracy  Recall  Precision    ROC  F1 Score Threshold\n",
       "0      76.8    80.0       29.1  0.782      42.4     0.115"
      ]
     },
     "execution_count": 5,
     "metadata": {},
     "output_type": "execute_result"
    }
   ],
   "source": [
    "result_exp_01 = run_experiment(data, labels, rf_200_balanced, threshold=0.115, oversampling=None, seed=42)\n",
    "result_exp_01"
   ]
  },
  {
   "cell_type": "markdown",
   "metadata": {},
   "source": [
    "### Experiment 2: Unbalanced Classes"
   ]
  },
  {
   "cell_type": "code",
   "execution_count": 6,
   "metadata": {},
   "outputs": [
    {
     "data": {
      "text/html": [
       "<div>\n",
       "<style scoped>\n",
       "    .dataframe tbody tr th:only-of-type {\n",
       "        vertical-align: middle;\n",
       "    }\n",
       "\n",
       "    .dataframe tbody tr th {\n",
       "        vertical-align: top;\n",
       "    }\n",
       "\n",
       "    .dataframe thead th {\n",
       "        text-align: right;\n",
       "    }\n",
       "</style>\n",
       "<table border=\"1\" class=\"dataframe\">\n",
       "  <thead>\n",
       "    <tr style=\"text-align: right;\">\n",
       "      <th></th>\n",
       "      <th>Accuracy</th>\n",
       "      <th>Recall</th>\n",
       "      <th>Precision</th>\n",
       "      <th>ROC</th>\n",
       "      <th>F1 Score</th>\n",
       "      <th>Threshold</th>\n",
       "    </tr>\n",
       "  </thead>\n",
       "  <tbody>\n",
       "    <tr>\n",
       "      <th>0</th>\n",
       "      <td>90.0</td>\n",
       "      <td>10.2</td>\n",
       "      <td>75.0</td>\n",
       "      <td>0.549</td>\n",
       "      <td>17.7</td>\n",
       "      <td>0.500</td>\n",
       "    </tr>\n",
       "  </tbody>\n",
       "</table>\n",
       "</div>"
      ],
      "text/plain": [
       "   Accuracy  Recall  Precision    ROC  F1 Score Threshold\n",
       "0      90.0    10.2       75.0  0.549      17.7     0.500"
      ]
     },
     "execution_count": 6,
     "metadata": {},
     "output_type": "execute_result"
    }
   ],
   "source": [
    "result_exp_02 = run_experiment(data, labels, rf_200_unbalanced, oversampling=None, seed=42)\n",
    "result_exp_02"
   ]
  },
  {
   "cell_type": "markdown",
   "metadata": {},
   "source": [
    "### Experiment 3: Class Balancing"
   ]
  },
  {
   "cell_type": "code",
   "execution_count": 7,
   "metadata": {},
   "outputs": [
    {
     "data": {
      "text/html": [
       "<div>\n",
       "<style scoped>\n",
       "    .dataframe tbody tr th:only-of-type {\n",
       "        vertical-align: middle;\n",
       "    }\n",
       "\n",
       "    .dataframe tbody tr th {\n",
       "        vertical-align: top;\n",
       "    }\n",
       "\n",
       "    .dataframe thead th {\n",
       "        text-align: right;\n",
       "    }\n",
       "</style>\n",
       "<table border=\"1\" class=\"dataframe\">\n",
       "  <thead>\n",
       "    <tr style=\"text-align: right;\">\n",
       "      <th></th>\n",
       "      <th>Accuracy</th>\n",
       "      <th>Recall</th>\n",
       "      <th>Precision</th>\n",
       "      <th>ROC</th>\n",
       "      <th>F1 Score</th>\n",
       "      <th>Threshold</th>\n",
       "    </tr>\n",
       "  </thead>\n",
       "  <tbody>\n",
       "    <tr>\n",
       "      <th>0</th>\n",
       "      <td>89.6</td>\n",
       "      <td>4.6</td>\n",
       "      <td>75.8</td>\n",
       "      <td>0.522</td>\n",
       "      <td>8.6</td>\n",
       "      <td>0.500</td>\n",
       "    </tr>\n",
       "  </tbody>\n",
       "</table>\n",
       "</div>"
      ],
      "text/plain": [
       "   Accuracy  Recall  Precision    ROC  F1 Score Threshold\n",
       "0      89.6     4.6       75.8  0.522       8.6     0.500"
      ]
     },
     "execution_count": 7,
     "metadata": {},
     "output_type": "execute_result"
    }
   ],
   "source": [
    "result_exp_03 = run_experiment(data, labels, rf_200_balanced, oversampling=None, seed=42)\n",
    "result_exp_03"
   ]
  },
  {
   "cell_type": "markdown",
   "metadata": {},
   "source": [
    "### Experiment 4: SMOTE"
   ]
  },
  {
   "cell_type": "code",
   "execution_count": 8,
   "metadata": {},
   "outputs": [
    {
     "data": {
      "text/html": [
       "<div>\n",
       "<style scoped>\n",
       "    .dataframe tbody tr th:only-of-type {\n",
       "        vertical-align: middle;\n",
       "    }\n",
       "\n",
       "    .dataframe tbody tr th {\n",
       "        vertical-align: top;\n",
       "    }\n",
       "\n",
       "    .dataframe thead th {\n",
       "        text-align: right;\n",
       "    }\n",
       "</style>\n",
       "<table border=\"1\" class=\"dataframe\">\n",
       "  <thead>\n",
       "    <tr style=\"text-align: right;\">\n",
       "      <th></th>\n",
       "      <th>Accuracy</th>\n",
       "      <th>Recall</th>\n",
       "      <th>Precision</th>\n",
       "      <th>ROC</th>\n",
       "      <th>F1 Score</th>\n",
       "      <th>Threshold</th>\n",
       "    </tr>\n",
       "  </thead>\n",
       "  <tbody>\n",
       "    <tr>\n",
       "      <th>0</th>\n",
       "      <td>90.8</td>\n",
       "      <td>24.4</td>\n",
       "      <td>70.9</td>\n",
       "      <td>0.616</td>\n",
       "      <td>36.0</td>\n",
       "      <td>0.500</td>\n",
       "    </tr>\n",
       "  </tbody>\n",
       "</table>\n",
       "</div>"
      ],
      "text/plain": [
       "   Accuracy  Recall  Precision    ROC  F1 Score Threshold\n",
       "0      90.8    24.4       70.9  0.616      36.0     0.500"
      ]
     },
     "execution_count": 8,
     "metadata": {},
     "output_type": "execute_result"
    }
   ],
   "source": [
    "result_exp_04 = run_experiment(data, labels, rf_200_unbalanced, oversampling='smote', seed=42)\n",
    "result_exp_04"
   ]
  },
  {
   "cell_type": "markdown",
   "metadata": {},
   "source": [
    "### Experiment 5: ADASYN"
   ]
  },
  {
   "cell_type": "code",
   "execution_count": 9,
   "metadata": {},
   "outputs": [
    {
     "data": {
      "text/html": [
       "<div>\n",
       "<style scoped>\n",
       "    .dataframe tbody tr th:only-of-type {\n",
       "        vertical-align: middle;\n",
       "    }\n",
       "\n",
       "    .dataframe tbody tr th {\n",
       "        vertical-align: top;\n",
       "    }\n",
       "\n",
       "    .dataframe thead th {\n",
       "        text-align: right;\n",
       "    }\n",
       "</style>\n",
       "<table border=\"1\" class=\"dataframe\">\n",
       "  <thead>\n",
       "    <tr style=\"text-align: right;\">\n",
       "      <th></th>\n",
       "      <th>Accuracy</th>\n",
       "      <th>Recall</th>\n",
       "      <th>Precision</th>\n",
       "      <th>ROC</th>\n",
       "      <th>F1 Score</th>\n",
       "      <th>Threshold</th>\n",
       "    </tr>\n",
       "  </thead>\n",
       "  <tbody>\n",
       "    <tr>\n",
       "      <th>0</th>\n",
       "      <td>90.7</td>\n",
       "      <td>25.0</td>\n",
       "      <td>69.5</td>\n",
       "      <td>0.618</td>\n",
       "      <td>36.1</td>\n",
       "      <td>0.500</td>\n",
       "    </tr>\n",
       "  </tbody>\n",
       "</table>\n",
       "</div>"
      ],
      "text/plain": [
       "   Accuracy  Recall  Precision    ROC  F1 Score Threshold\n",
       "0      90.7    25.0       69.5  0.618      36.1     0.500"
      ]
     },
     "execution_count": 9,
     "metadata": {},
     "output_type": "execute_result"
    }
   ],
   "source": [
    "result_exp_05 = run_experiment(data, labels, rf_200_unbalanced, oversampling='adasyn', seed=42)\n",
    "result_exp_05"
   ]
  },
  {
   "cell_type": "markdown",
   "metadata": {},
   "source": [
    "### Experiment 6: K-Nearest Neighbors"
   ]
  },
  {
   "cell_type": "code",
   "execution_count": 10,
   "metadata": {},
   "outputs": [
    {
     "name": "stdout",
     "output_type": "stream",
     "text": [
      "Best Parameters: {'metric': 'manhattan', 'n_neighbors': 1, 'weights': 'uniform'}\n",
      "Best Score: 0.2468391342291527\n"
     ]
    }
   ],
   "source": [
    "param_grid = {\n",
    "    'n_neighbors': [1, 3, 5, 7, 9],\n",
    "    'weights': ['uniform', 'distance'],\n",
    "    'metric': ['euclidean', 'manhattan']\n",
    "}\n",
    "\n",
    "knn = KNeighborsClassifier()\n",
    "grid_search = GridSearchCV(knn, param_grid, cv=10, scoring='f1')\n",
    "grid_search.fit(data, labels)\n",
    "\n",
    "print(\"Best Parameters:\", grid_search.best_params_)\n",
    "print(\"Best Score:\", grid_search.best_score_)"
   ]
  },
  {
   "cell_type": "code",
   "execution_count": 11,
   "metadata": {},
   "outputs": [],
   "source": [
    "def knn_1(seed=42):\n",
    "    return KNeighborsClassifier(n_neighbors=1, weights='uniform', metric='manhattan')"
   ]
  },
  {
   "cell_type": "code",
   "execution_count": 12,
   "metadata": {},
   "outputs": [
    {
     "data": {
      "text/html": [
       "<div>\n",
       "<style scoped>\n",
       "    .dataframe tbody tr th:only-of-type {\n",
       "        vertical-align: middle;\n",
       "    }\n",
       "\n",
       "    .dataframe tbody tr th {\n",
       "        vertical-align: top;\n",
       "    }\n",
       "\n",
       "    .dataframe thead th {\n",
       "        text-align: right;\n",
       "    }\n",
       "</style>\n",
       "<table border=\"1\" class=\"dataframe\">\n",
       "  <thead>\n",
       "    <tr style=\"text-align: right;\">\n",
       "      <th></th>\n",
       "      <th>Accuracy</th>\n",
       "      <th>Recall</th>\n",
       "      <th>Precision</th>\n",
       "      <th>ROC</th>\n",
       "      <th>F1 Score</th>\n",
       "      <th>Threshold</th>\n",
       "    </tr>\n",
       "  </thead>\n",
       "  <tbody>\n",
       "    <tr>\n",
       "      <th>0</th>\n",
       "      <td>80.8</td>\n",
       "      <td>34.7</td>\n",
       "      <td>23.4</td>\n",
       "      <td>0.605</td>\n",
       "      <td>27.7</td>\n",
       "      <td>0.500</td>\n",
       "    </tr>\n",
       "  </tbody>\n",
       "</table>\n",
       "</div>"
      ],
      "text/plain": [
       "   Accuracy  Recall  Precision    ROC  F1 Score Threshold\n",
       "0      80.8    34.7       23.4  0.605      27.7     0.500"
      ]
     },
     "execution_count": 12,
     "metadata": {},
     "output_type": "execute_result"
    }
   ],
   "source": [
    "result_exp_06 = run_experiment(data, labels, knn_1, oversampling='smote', seed=42)\n",
    "result_exp_06"
   ]
  },
  {
   "cell_type": "markdown",
   "metadata": {},
   "source": [
    "### Experiment 7: Support Vector Machine"
   ]
  },
  {
   "cell_type": "code",
   "execution_count": 13,
   "metadata": {},
   "outputs": [
    {
     "name": "stdout",
     "output_type": "stream",
     "text": [
      "Best Parameters: {'C': 100, 'gamma': 0.1}\n",
      "Best Score: 0.33744349377819655\n"
     ]
    }
   ],
   "source": [
    "param_grid = {\n",
    "    'C': [0.01, 0.1, 1, 10, 100],\n",
    "    'gamma': [0.01, 0.1, 1]\n",
    "}\n",
    "\n",
    "svc = SVC(kernel='rbf', probability=True, random_state=42)\n",
    "grid_search = GridSearchCV(svc, param_grid, cv=10, scoring='f1')\n",
    "grid_search.fit(data, labels)\n",
    "\n",
    "print(\"Best Parameters:\", grid_search.best_params_)\n",
    "print(\"Best Score:\", grid_search.best_score_)"
   ]
  },
  {
   "cell_type": "code",
   "execution_count": 14,
   "metadata": {},
   "outputs": [],
   "source": [
    "def svm_100_001(seed=42):\n",
    "    return SVC(C=100, kernel='rbf', gamma=0.01, probability=True, random_state=42)"
   ]
  },
  {
   "cell_type": "code",
   "execution_count": 15,
   "metadata": {},
   "outputs": [
    {
     "data": {
      "text/html": [
       "<div>\n",
       "<style scoped>\n",
       "    .dataframe tbody tr th:only-of-type {\n",
       "        vertical-align: middle;\n",
       "    }\n",
       "\n",
       "    .dataframe tbody tr th {\n",
       "        vertical-align: top;\n",
       "    }\n",
       "\n",
       "    .dataframe thead th {\n",
       "        text-align: right;\n",
       "    }\n",
       "</style>\n",
       "<table border=\"1\" class=\"dataframe\">\n",
       "  <thead>\n",
       "    <tr style=\"text-align: right;\">\n",
       "      <th></th>\n",
       "      <th>Accuracy</th>\n",
       "      <th>Recall</th>\n",
       "      <th>Precision</th>\n",
       "      <th>ROC</th>\n",
       "      <th>F1 Score</th>\n",
       "      <th>Threshold</th>\n",
       "    </tr>\n",
       "  </thead>\n",
       "  <tbody>\n",
       "    <tr>\n",
       "      <th>0</th>\n",
       "      <td>86.2</td>\n",
       "      <td>49.9</td>\n",
       "      <td>39.2</td>\n",
       "      <td>0.702</td>\n",
       "      <td>43.8</td>\n",
       "      <td>0.500</td>\n",
       "    </tr>\n",
       "  </tbody>\n",
       "</table>\n",
       "</div>"
      ],
      "text/plain": [
       "   Accuracy  Recall  Precision    ROC  F1 Score Threshold\n",
       "0      86.2    49.9       39.2  0.702      43.8     0.500"
      ]
     },
     "execution_count": 15,
     "metadata": {},
     "output_type": "execute_result"
    }
   ],
   "source": [
    "result_exp_07 = run_experiment(data, labels, svm_100_001, oversampling='smote', seed=42)\n",
    "result_exp_07"
   ]
  },
  {
   "cell_type": "markdown",
   "metadata": {},
   "source": [
    "## Compare Results"
   ]
  },
  {
   "cell_type": "code",
   "execution_count": 49,
   "metadata": {},
   "outputs": [
    {
     "data": {
      "text/html": [
       "<div>\n",
       "<style scoped>\n",
       "    .dataframe tbody tr th:only-of-type {\n",
       "        vertical-align: middle;\n",
       "    }\n",
       "\n",
       "    .dataframe tbody tr th {\n",
       "        vertical-align: top;\n",
       "    }\n",
       "\n",
       "    .dataframe thead th {\n",
       "        text-align: right;\n",
       "    }\n",
       "</style>\n",
       "<table border=\"1\" class=\"dataframe\">\n",
       "  <thead>\n",
       "    <tr style=\"text-align: right;\">\n",
       "      <th></th>\n",
       "      <th>Experiment</th>\n",
       "      <th>Accuracy</th>\n",
       "      <th>Recall</th>\n",
       "      <th>Precision</th>\n",
       "      <th>ROC</th>\n",
       "      <th>F1 Score</th>\n",
       "      <th>Threshold</th>\n",
       "    </tr>\n",
       "  </thead>\n",
       "  <tbody>\n",
       "    <tr>\n",
       "      <th>0</th>\n",
       "      <td>EXP01: Baseline Model</td>\n",
       "      <td>76.8</td>\n",
       "      <td>80.0</td>\n",
       "      <td>29.1</td>\n",
       "      <td>0.782</td>\n",
       "      <td>42.4</td>\n",
       "      <td>0.115</td>\n",
       "    </tr>\n",
       "    <tr>\n",
       "      <th>1</th>\n",
       "      <td>EXP02: Random Forest w/o Class Balancing</td>\n",
       "      <td>90.0</td>\n",
       "      <td>10.2</td>\n",
       "      <td>75.0</td>\n",
       "      <td>0.549</td>\n",
       "      <td>17.7</td>\n",
       "      <td>0.500</td>\n",
       "    </tr>\n",
       "    <tr>\n",
       "      <th>2</th>\n",
       "      <td>EXP03: Random Forest with Class Balancing</td>\n",
       "      <td>89.6</td>\n",
       "      <td>4.6</td>\n",
       "      <td>75.8</td>\n",
       "      <td>0.522</td>\n",
       "      <td>8.6</td>\n",
       "      <td>0.500</td>\n",
       "    </tr>\n",
       "    <tr>\n",
       "      <th>3</th>\n",
       "      <td>EXP04: Random Forest with SMOTE</td>\n",
       "      <td>90.8</td>\n",
       "      <td>24.4</td>\n",
       "      <td>70.9</td>\n",
       "      <td>0.616</td>\n",
       "      <td>36.0</td>\n",
       "      <td>0.500</td>\n",
       "    </tr>\n",
       "    <tr>\n",
       "      <th>4</th>\n",
       "      <td>EXP05: Random Forest with ADASYN</td>\n",
       "      <td>90.7</td>\n",
       "      <td>25.0</td>\n",
       "      <td>69.5</td>\n",
       "      <td>0.618</td>\n",
       "      <td>36.1</td>\n",
       "      <td>0.500</td>\n",
       "    </tr>\n",
       "    <tr>\n",
       "      <th>5</th>\n",
       "      <td>EXP06: K-Nearest Neighbors with SMOTE</td>\n",
       "      <td>80.8</td>\n",
       "      <td>34.7</td>\n",
       "      <td>23.4</td>\n",
       "      <td>0.605</td>\n",
       "      <td>27.7</td>\n",
       "      <td>0.500</td>\n",
       "    </tr>\n",
       "    <tr>\n",
       "      <th>6</th>\n",
       "      <td>EXP07: Support Vector Machine with SMOTE</td>\n",
       "      <td>86.2</td>\n",
       "      <td>49.9</td>\n",
       "      <td>39.2</td>\n",
       "      <td>0.702</td>\n",
       "      <td>43.8</td>\n",
       "      <td>0.500</td>\n",
       "    </tr>\n",
       "  </tbody>\n",
       "</table>\n",
       "</div>"
      ],
      "text/plain": [
       "                                  Experiment  Accuracy  Recall  Precision  \\\n",
       "0                      EXP01: Baseline Model      76.8    80.0       29.1   \n",
       "1   EXP02: Random Forest w/o Class Balancing      90.0    10.2       75.0   \n",
       "2  EXP03: Random Forest with Class Balancing      89.6     4.6       75.8   \n",
       "3            EXP04: Random Forest with SMOTE      90.8    24.4       70.9   \n",
       "4           EXP05: Random Forest with ADASYN      90.7    25.0       69.5   \n",
       "5      EXP06: K-Nearest Neighbors with SMOTE      80.8    34.7       23.4   \n",
       "6   EXP07: Support Vector Machine with SMOTE      86.2    49.9       39.2   \n",
       "\n",
       "     ROC  F1 Score  Threshold  \n",
       "0  0.782      42.4      0.115  \n",
       "1  0.549      17.7      0.500  \n",
       "2  0.522       8.6      0.500  \n",
       "3  0.616      36.0      0.500  \n",
       "4  0.618      36.1      0.500  \n",
       "5  0.605      27.7      0.500  \n",
       "6  0.702      43.8      0.500  "
      ]
     },
     "execution_count": 49,
     "metadata": {},
     "output_type": "execute_result"
    }
   ],
   "source": [
    "experiments = [result_exp_01, result_exp_02, result_exp_03, result_exp_04, result_exp_05, result_exp_06, result_exp_07]\n",
    "experiment_names = [\n",
    "    'EXP01: Baseline Model',\n",
    "    'EXP02: Random Forest w/o Class Balancing',\n",
    "    'EXP03: Random Forest with Class Balancing',\n",
    "    'EXP04: Random Forest with SMOTE',\n",
    "    'EXP05: Random Forest with ADASYN',\n",
    "    'EXP06: K-Nearest Neighbors with SMOTE',\n",
    "    'EXP07: Support Vector Machine with SMOTE'\n",
    "]\n",
    "results = pd.concat(experiments, ignore_index=True)\n",
    "results = results.astype(float)\n",
    "results.insert(0, 'Experiment', experiment_names)\n",
    "results.to_csv('./results/results_1.csv')\n",
    "results"
   ]
  },
  {
   "cell_type": "code",
   "execution_count": 52,
   "metadata": {},
   "outputs": [
    {
     "data": {
      "image/png": "[encoded data removed]",
      "text/plain": [
       "<Figure size 640x480 with 1 Axes>"
      ]
     },
     "metadata": {},
     "output_type": "display_data"
    }
   ],
   "source": [
    "results_sorted = results.sort_values(by='F1 Score', ascending=False)\n",
    "results_sorted['ROC'] = results_sorted['ROC'].apply(lambda x: x*100)\n",
    "results_sorted = results_sorted.drop('Threshold', axis=1)\n",
    "melted_df = pd.melt(results_sorted, id_vars='Experiment', var_name='Metric', value_name='Value')\n",
    "ax = sns.barplot(data=melted_df, x='Value', y='Experiment', hue='Metric', dodge=True, linewidth=0)\n",
    "\n",
    "sns.set(style='whitegrid')\n",
    "colors = {'Accuracy': 'lightgrey', 'Recall': '#909090', 'Precision': 'lightgrey', 'ROC': 'lightgrey', 'F1 Score': 'dodgerblue'}\n",
    "\n",
    "for metric, color in colors.items():\n",
    "    for bar in ax.containers:\n",
    "        if metric in bar.get_label():\n",
    "            for rect in bar:\n",
    "                alpha = 0.7 if metric != 'F1 Score' else 1.0\n",
    "                for rect in bar:\n",
    "                    rect.set_color(color)\n",
    "                    rect.set_alpha(alpha)\n",
    "\n",
    "plt.xlabel('Performance Value (%)', labelpad=15)\n",
    "plt.ylabel('')\n",
    "plt.legend(title='', bbox_to_anchor=(0.5, 1.05), loc='lower center', ncol=5)\n",
    "\n",
    "plt.xticks(np.arange(0, 101, 10))\n",
    "\n",
    "ax.spines['top'].set_visible(False)\n",
    "ax.spines['right'].set_visible(False)\n",
    "ax.spines['bottom'].set_visible(False)\n",
    "ax.spines['left'].set_visible(False)\n",
    "\n",
    "plt.show()"
   ]
  },
  {
   "cell_type": "code",
   "execution_count": 41,
   "metadata": {},
   "outputs": [
    {
     "data": {
      "image/png": "[encoded data removed]",
      "text/plain": [
       "<Figure size 640x480 with 1 Axes>"
      ]
     },
     "metadata": {},
     "output_type": "display_data"
    }
   ],
   "source": [
    "results_sorted = results.sort_values(by='Recall', ascending=False)\n",
    "results_sorted['ROC'] = results_sorted['ROC'].apply(lambda x: x*100)\n",
    "results_sorted = results_sorted.drop('Threshold', axis=1)\n",
    "melted_df = pd.melt(results_sorted, id_vars='Experiment', var_name='Metric', value_name='Value')\n",
    "ax = sns.barplot(data=melted_df, x='Value', y='Experiment', hue='Metric', dodge=True, linewidth=0)\n",
    "\n",
    "sns.set(style='whitegrid')\n",
    "colors = {'Accuracy': 'lightgrey', 'Recall': '#FF8F1F', 'Precision': 'lightgrey', 'ROC': 'lightgrey', 'F1 Score': '#909090'}\n",
    "\n",
    "for metric, color in colors.items():\n",
    "    for bar in ax.containers:\n",
    "        if metric in bar.get_label():\n",
    "            for rect in bar:\n",
    "                alpha = 0.7 if metric != 'Recall' else 1.0\n",
    "                for rect in bar:\n",
    "                    rect.set_color(color)\n",
    "                    rect.set_alpha(alpha)\n",
    "\n",
    "plt.xlabel('Performance Value (%)', labelpad=15)\n",
    "plt.ylabel('')\n",
    "plt.legend(title='', bbox_to_anchor=(0.5, 1.05), loc='lower center', ncol=5)\n",
    "\n",
    "plt.xticks(np.arange(0, 101, 10))\n",
    "\n",
    "ax.spines['top'].set_visible(False)\n",
    "ax.spines['right'].set_visible(False)\n",
    "ax.spines['bottom'].set_visible(False)\n",
    "ax.spines['left'].set_visible(False)\n",
    "\n",
    "plt.show()"
   ]
  }
 ],
 "metadata": {
  "kernelspec": {
   "display_name": "tf1",
   "language": "python",
   "name": "python3"
  },
  "language_info": {
   "codemirror_mode": {
    "name": "ipython",
    "version": 3
   },
   "file_extension": ".py",
   "mimetype": "text/x-python",
   "name": "python",
   "nbconvert_exporter": "python",
   "pygments_lexer": "ipython3",
   "version": "3.11.0"
  },
  "orig_nbformat": 4
 },
 "nbformat": 4,
 "nbformat_minor": 2
}
